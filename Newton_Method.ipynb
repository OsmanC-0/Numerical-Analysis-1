{
 "cells": [
  {
   "cell_type": "code",
   "execution_count": 36,
   "metadata": {},
   "outputs": [
    {
     "name": "stdout",
     "output_type": "stream",
     "text": [
      "  n       xn        f(xn)  xn - xn-1\n",
      "---  -------  -----------  -----------------------\n",
      "  0  1.5      8.89062      NA\n",
      "  1  1.30049  2.53726      -0.19950911640953706\n",
      "  2  1.18148  0.538459     -0.1190104671875285\n",
      "  3  1.13946  0.0492353    -0.0420248261274081\n",
      "  4  1.13478  0.000550324  -0.00467796503841722\n",
      "  5  1.13472  7.11359e-08  -5.3479920891108534e-05\n",
      "  6  1.13472  1.55431e-15  -6.9146983694423625e-09\n"
     ]
    }
   ],
   "source": [
    "from sympy import *\n",
    "from tabulate import tabulate\n",
    "from sympy.plotting import plot\n",
    "\n",
    "x, y, z = symbols('x y z')\n",
    "init_printing(use_unicode=True)\n",
    "\n",
    "def Newton(func, xo, error):\n",
    "\n",
    "    #Converts string input equation to usable equation\n",
    "    def f(x):\n",
    "        return eval(func)\n",
    "    \n",
    "    #Collect number of iteration, xn, f(xn), xn - x(n-1)\n",
    "    results = [[0, xo, f(xo), \"NA\"]]\n",
    "\n",
    "    #Finds the derivative of equation\n",
    "    def fprime_eqn():\n",
    "        eqn = str(diff(func,x))\n",
    "        return eqn\n",
    "    \n",
    "    #Finds the value of the derivative of equation at any x\n",
    "    def fprime(x):\n",
    "        return eval(fprime_eqn())\n",
    "    \n",
    "    #Function that finds the value of x of nth intersection \n",
    "    def axis(n):\n",
    "        if n == 0:\n",
    "            return xo\n",
    "        else:\n",
    "            return axis(n-1) - (f(axis(n-1)) / fprime(axis(n-1)))\n",
    "        \n",
    "    #Algorithm of Newton Method\n",
    "    n = 1\n",
    "    while True:\n",
    "        if abs(axis(n)-axis(n-1)) > error:\n",
    "            results.append([n, axis(n), f(axis(n)) ,axis(n)-axis(n-1)])\n",
    "            n += 1\n",
    "        else:\n",
    "            break\n",
    "\n",
    "\n",
    "    return tabulate(results, headers=[\"n\", \"xn\", \"f(xn)\", \"xn - xn-1\"])\n",
    "    \n",
    "print(Newton(\"(x**6)-x-1\",1.5,1e-9))\n"
   ]
  }
 ],
 "metadata": {
  "kernelspec": {
   "display_name": "Python 3",
   "language": "python",
   "name": "python3"
  },
  "language_info": {
   "codemirror_mode": {
    "name": "ipython",
    "version": 3
   },
   "file_extension": ".py",
   "mimetype": "text/x-python",
   "name": "python",
   "nbconvert_exporter": "python",
   "pygments_lexer": "ipython3",
   "version": "3.9.12"
  }
 },
 "nbformat": 4,
 "nbformat_minor": 2
}
