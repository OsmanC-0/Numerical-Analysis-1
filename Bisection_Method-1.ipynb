{
 "cells": [
  {
   "cell_type": "code",
   "execution_count": 22,
   "metadata": {},
   "outputs": [
    {
     "name": "stdout",
     "output_type": "stream",
     "text": [
      "+-----+---------+---------+---------+-------------+--------------+\n",
      "|     |       a |       b |       c |         b-c |         f(c) |\n",
      "+=====+=========+=========+=========+=============+==============+\n",
      "|   1 | 1       | 2       | 1.5     | 0.5         |  8.89062     |\n",
      "+-----+---------+---------+---------+-------------+--------------+\n",
      "|   2 | 1       | 1.5     | 1.25    | 0.25        |  1.5647      |\n",
      "+-----+---------+---------+---------+-------------+--------------+\n",
      "|   3 | 1       | 1.25    | 1.125   | 0.125       | -0.0977135   |\n",
      "+-----+---------+---------+---------+-------------+--------------+\n",
      "|   4 | 1.125   | 1.25    | 1.1875  | 0.0625      |  0.616653    |\n",
      "+-----+---------+---------+---------+-------------+--------------+\n",
      "|   5 | 1.125   | 1.1875  | 1.15625 | 0.03125     |  0.233269    |\n",
      "+-----+---------+---------+---------+-------------+--------------+\n",
      "|   6 | 1.125   | 1.15625 | 1.14062 | 0.015625    |  0.0615778   |\n",
      "+-----+---------+---------+---------+-------------+--------------+\n",
      "|   7 | 1.125   | 1.14062 | 1.13281 | 0.0078125   | -0.0195756   |\n",
      "+-----+---------+---------+---------+-------------+--------------+\n",
      "|   8 | 1.13281 | 1.14062 | 1.13672 | 0.00390625  |  0.020619    |\n",
      "+-----+---------+---------+---------+-------------+--------------+\n",
      "|   9 | 1.13281 | 1.13672 | 1.13477 | 0.00195312  |  0.000426842 |\n",
      "+-----+---------+---------+---------+-------------+--------------+\n",
      "|  10 | 1.13281 | 1.13477 | 1.13379 | 0.000976562 | -0.00959799  |\n",
      "+-----+---------+---------+---------+-------------+--------------+\n",
      "{'a': 1.1337890625, 'b': 1.134765625, 'root': 1.1337890625, 'distance': 0.0009765625, 'value at root': -0.009597993286452056, 'iter_num': 10}\n"
     ]
    }
   ],
   "source": [
    "#Bisection Method\n",
    "\n",
    "#Write a function that the number of iterations is needed for method:\n",
    "\n",
    "import math\n",
    "from tabulate import tabulate\n",
    "\n",
    "def bisection(func,a,b,err_tol):\n",
    "    n = math.ceil((math.log((b-a)/err_tol)/math.log(2)))\n",
    "    def f(x):\n",
    "        return eval(func)\n",
    "    i = 0\n",
    "    \n",
    "    results = []\n",
    "    \n",
    "    while abs(a-b) > err_tol:  \n",
    "        c = (a+b)/2\n",
    "        i += 1\n",
    "        \n",
    "        results.append([i, a, b, c, b-c, f(c)])\n",
    "\n",
    "        if f(b)*f(c) <= 0:\n",
    "            a = c\n",
    "        else:\n",
    "            b = c\n",
    "\n",
    "    print(tabulate(results, headers=[\" \", \"a\", \"b\", \"c\", \"b-c\",\"f(c)\"], tablefmt=\"grid\"))        \n",
    "\n",
    "\n",
    "    return {\"a\":a,\n",
    "            \"b\":b,\n",
    "            \"root\":c,\n",
    "            \"distance\":b-c,\n",
    "            \"value at root\": f(c),\n",
    "            \"iter_num\":n}\n",
    "\n",
    "\n",
    "print(bisection(\"(x**6)-x-1\",1,2,0.001))\n",
    "\n",
    "#function calculating the number of iteration \n",
    "def iter_num_bisec(a,b,err_tol):\n",
    "    n = (math.log((b-a)/err_tol)/math.log(2))\n",
    "    return math.ceil(n)\n",
    "\n",
    "\n"
   ]
  }
 ],
 "metadata": {
  "kernelspec": {
   "display_name": "Python 3",
   "language": "python",
   "name": "python3"
  },
  "language_info": {
   "codemirror_mode": {
    "name": "ipython",
    "version": 3
   },
   "file_extension": ".py",
   "mimetype": "text/x-python",
   "name": "python",
   "nbconvert_exporter": "python",
   "pygments_lexer": "ipython3",
   "version": "3.9.12"
  }
 },
 "nbformat": 4,
 "nbformat_minor": 2
}
